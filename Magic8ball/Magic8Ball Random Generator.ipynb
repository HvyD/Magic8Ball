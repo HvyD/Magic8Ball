{
 "cells": [
  {
   "cell_type": "markdown",
   "metadata": {},
   "source": [
    "### Magic8Ball\n",
    "random quote generator"
   ]
  },
  {
   "cell_type": "code",
   "execution_count": 1,
   "metadata": {},
   "outputs": [
    {
     "name": "stdout",
     "output_type": "stream",
     "text": [
      "It is certain\n"
     ]
    }
   ],
   "source": [
    "import random\n",
    "\n",
    "def Ask8Ball(retort):\n",
    "    if retort == 1:\n",
    "        return 'It is certain'\n",
    "    elif retort == 2:\n",
    "        return 'It is decidedly so'\n",
    "    elif retort == 3:\n",
    "        return 'Yes'\n",
    "    elif retort == 4:\n",
    "        return 'Reply hazy try again'\n",
    "    elif retort == 5:\n",
    "        return 'Ask again later'\n",
    "    elif retort == 6:\n",
    "        return 'Concentrate and ask again'\n",
    "    elif retort == 7:\n",
    "        return 'My reply is no'\n",
    "    elif retort == 8:\n",
    "        return 'Outlook not so good'\n",
    "    elif retort == 9:\n",
    "        return 'Very doubtful'\n",
    "    \n",
    "    \n",
    "print(Ask8Ball(random.randint(1,9)))"
   ]
  },
  {
   "cell_type": "code",
   "execution_count": null,
   "metadata": {},
   "outputs": [],
   "source": []
  }
 ],
 "metadata": {
  "kernelspec": {
   "display_name": "Python 3",
   "language": "python",
   "name": "python3"
  },
  "language_info": {
   "codemirror_mode": {
    "name": "ipython",
    "version": 3
   },
   "file_extension": ".py",
   "mimetype": "text/x-python",
   "name": "python",
   "nbconvert_exporter": "python",
   "pygments_lexer": "ipython3",
   "version": "3.7.3"
  }
 },
 "nbformat": 4,
 "nbformat_minor": 2
}
