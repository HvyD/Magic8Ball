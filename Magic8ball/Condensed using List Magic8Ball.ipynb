{
 "cells": [
  {
   "cell_type": "code",
   "execution_count": 9,
   "metadata": {},
   "outputs": [
    {
     "name": "stdout",
     "output_type": "stream",
     "text": [
      "Concentrate and ask again\n"
     ]
    }
   ],
   "source": [
    "#%%timeit\n",
    "import random\n",
    "\n",
    "Answers = ['It is certain', \n",
    "           'It is decidedly so', \n",
    "           'Yes', \n",
    "           'Reply hazy try again', \n",
    "           'Ask again later', \n",
    "           'Concentrate and ask again',\n",
    "           'My reply is no', \n",
    "           'Outlook not so good',\n",
    "           'Very doubtful']\n",
    "\n",
    "print(Answers[random.randint(0,len(Answers)-1)])"
   ]
  }
 ],
 "metadata": {
  "kernelspec": {
   "display_name": "Python 3",
   "language": "python",
   "name": "python3"
  },
  "language_info": {
   "codemirror_mode": {
    "name": "ipython",
    "version": 3
   },
   "file_extension": ".py",
   "mimetype": "text/x-python",
   "name": "python",
   "nbconvert_exporter": "python",
   "pygments_lexer": "ipython3",
   "version": "3.7.3"
  }
 },
 "nbformat": 4,
 "nbformat_minor": 2
}
